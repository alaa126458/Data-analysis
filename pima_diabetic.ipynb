{
  "nbformat": 4,
  "nbformat_minor": 0,
  "metadata": {
    "colab": {
      "provenance": [],
      "authorship_tag": "ABX9TyO4RT/eKMMAFyBynUGWhg0F",
      "include_colab_link": true
    },
    "kernelspec": {
      "name": "python3",
      "display_name": "Python 3"
    },
    "language_info": {
      "name": "python"
    }
  },
  "cells": [
    {
      "cell_type": "markdown",
      "metadata": {
        "id": "view-in-github",
        "colab_type": "text"
      },
      "source": [
        "<a href=\"https://colab.research.google.com/github/alaa126458/Data-analysis/blob/main/pima_diabetic.ipynb\" target=\"_parent\"><img src=\"https://colab.research.google.com/assets/colab-badge.svg\" alt=\"Open In Colab\"/></a>"
      ]
    },
    {
      "cell_type": "code",
      "execution_count": 105,
      "metadata": {
        "id": "eSzA4kEQIrLh"
      },
      "outputs": [],
      "source": [
        "#pima diabetic using Naive Bayes"
      ]
    },
    {
      "cell_type": "code",
      "source": [
        "import csv\n",
        "import random\n",
        "import math\n",
        "import pandas as np"
      ],
      "metadata": {
        "id": "HkWTAXlTJhAi"
      },
      "execution_count": 106,
      "outputs": []
    },
    {
      "cell_type": "code",
      "source": [
        "from typing_extensions import ClassVar\n",
        "def load(filename):\n",
        "  dataset = pd.read_csv(filename) # Use pandas to read the CSV file, which handles headers correctly\n",
        "  dataset = dataset.values.tolist() # Convert to a list of lists\n",
        "  return dataset"
      ],
      "metadata": {
        "id": "Tw9CizaNJhFU"
      },
      "execution_count": 107,
      "outputs": []
    },
    {
      "cell_type": "code",
      "source": [
        "def splitDataset(dataset,splitRatio):\n",
        "  trainSize=int(len(dataset)*splitRatio)\n",
        "  trainSet=[]\n",
        "  copy=list(dataset)\n",
        "  while len(trainSet)<trainSize:\n",
        "    index=random.randrange(len(copy))\n",
        "    trainSet.append(copy.pop(index))\n",
        "  return [trainSet,copy]"
      ],
      "metadata": {
        "id": "6uJradxEJhJ0"
      },
      "execution_count": 108,
      "outputs": []
    },
    {
      "cell_type": "code",
      "source": [
        "def saperateByClass(dataset):\n",
        "  separeted={}\n",
        "  for i in range(len(dataset)):\n",
        "    vector=dataset[i]\n",
        "    if(vector[-1] not in separeted):\n",
        "      separeted[vector[-1]]=[]\n",
        "    separeted[vector[-1]].append(vector)\n",
        "  return separeted"
      ],
      "metadata": {
        "id": "ljpsSBnnJhOD"
      },
      "execution_count": 109,
      "outputs": []
    },
    {
      "cell_type": "code",
      "source": [
        "def mean(numbers):\n",
        "  return sum(numbers)/float(len(numbers))"
      ],
      "metadata": {
        "id": "biVKotPSMLcO"
      },
      "execution_count": 110,
      "outputs": []
    },
    {
      "cell_type": "code",
      "source": [
        "def stdev(numbers):\n",
        "  avg=mean(numbers)\n",
        "  variance=sum([pow(x-avg,2) for x in numbers])/float(len(numbers)-1)\n",
        "  return math.sqrt(variance)"
      ],
      "metadata": {
        "id": "ZrxsdL-4MLkZ"
      },
      "execution_count": 111,
      "outputs": []
    },
    {
      "cell_type": "code",
      "source": [
        "def summarize(dataset):\n",
        "  summaries=[(mean(attribute),stdev(attribute)) for attribute in zip(*dataset)]\n",
        "  del summaries[-1]\n",
        "  return summaries"
      ],
      "metadata": {
        "id": "7W0LhkgcMLna"
      },
      "execution_count": 112,
      "outputs": []
    },
    {
      "cell_type": "code",
      "source": [
        "def summarizeByClass(dataset):\n",
        "  separeted=saperateByClass(dataset)\n",
        "  summaries={}\n",
        "  for classValue,instances in separeted.items():\n",
        "    summaries[classValue]=summarize(instances)\n",
        "  return summaries"
      ],
      "metadata": {
        "id": "3Qokw5gUM4dp"
      },
      "execution_count": 113,
      "outputs": []
    },
    {
      "cell_type": "code",
      "source": [
        "def calculateProbability(x,mean,stdev):\n",
        "  exponent=math.exp(-(math.pow(x-mean,2)/(2*math.pow(stdev,2))))\n",
        "  return (1/(math.sqrt(2*math.pi)*stdev))*exponent"
      ],
      "metadata": {
        "id": "lIo_dND2M4iv"
      },
      "execution_count": 114,
      "outputs": []
    },
    {
      "cell_type": "code",
      "source": [
        "def calculateClassProbabilities(summaries,inputVector):\n",
        "  probabilities={}\n",
        "  for classValue,classSummaries in summaries.items():\n",
        "    probabilities[classValue]=1\n",
        "    for i in range(len(classSummaries)):\n",
        "      mean,stdev=classSummaries[i]\n",
        "      x=inputVector[i]\n",
        "      probabilities[classValue]*=calculateProbability(x,mean,stdev)\n",
        "    return probabilities"
      ],
      "metadata": {
        "id": "AyE7yZnsM4nI"
      },
      "execution_count": 115,
      "outputs": []
    },
    {
      "cell_type": "code",
      "source": [
        "def predict(summaries,inputVector):\n",
        "  probabilities=calculateClassProbabilities(summaries,inputVector)\n",
        "  bestlabel,bestprob=None,-1\n",
        "  for classValue,probability in probabilities.items():\n",
        "    if bestlabel is None or probability>bestprob:\n",
        "      bestprob=probability\n",
        "      bestlabel=classValue\n",
        "  return bestlabel"
      ],
      "metadata": {
        "id": "SCDDbuocN5V6"
      },
      "execution_count": 116,
      "outputs": []
    },
    {
      "cell_type": "code",
      "source": [
        "def getPredictions(summaries,testSet):\n",
        "  predictions=[]\n",
        "  for i in range(len(testSet)):\n",
        "    result=predict(summaries,testSet[i])\n",
        "    predictions.append(result)\n",
        "  return predictions"
      ],
      "metadata": {
        "id": "n6AZ0UPdN5lJ"
      },
      "execution_count": 117,
      "outputs": []
    },
    {
      "cell_type": "code",
      "source": [
        "def getAccuracy(testSet,predictions):\n",
        "  correct=0\n",
        "  for x in range(len(testSet)):\n",
        "    if testSet[x][-1]==predictions[x]:\n",
        "      correct+=1\n",
        "  return (correct/float(len(testSet)))*100.0"
      ],
      "metadata": {
        "id": "GVG7HPCON5xm"
      },
      "execution_count": 118,
      "outputs": []
    },
    {
      "cell_type": "code",
      "source": [
        "def main():\n",
        "  filename='diabetes.csv' # Added .csv extension to the filename\n",
        "  splitRatio =0.67\n",
        "  dataset=load(filename)\n",
        "  trainingSet,testSet=splitDataset(dataset,splitRatio)\n",
        "  print('Split {0} rows into train={1} and test={2} rows'.format(len(dataset),len(trainingSet),len(testSet)))\n",
        "  summaries=summarizeByClass(trainingSet) # Changed prsummaries to summaries\n",
        "  predictions=getPredictions(summaries,testSet)\n",
        "  accuracy=getAccuracy(testSet,predictions)\n",
        "  print('Accuracy:{0}%'.format(accuracy))\n",
        "\n",
        "main()"
      ],
      "metadata": {
        "colab": {
          "base_uri": "https://localhost:8080/"
        },
        "id": "h-8O6LJHM4sT",
        "outputId": "0d671971-5bbb-47ce-f607-0250a9513910"
      },
      "execution_count": 122,
      "outputs": [
        {
          "output_type": "stream",
          "name": "stdout",
          "text": [
            "Split 768 rows into train=514 and test=254 rows\n",
            "Accuracy:65.74803149606299%\n"
          ]
        }
      ]
    },
    {
      "cell_type": "code",
      "source": [],
      "metadata": {
        "id": "Ywnd6HngM4xA"
      },
      "execution_count": null,
      "outputs": []
    },
    {
      "cell_type": "code",
      "source": [],
      "metadata": {
        "id": "7ngSPnOfM41d"
      },
      "execution_count": null,
      "outputs": []
    },
    {
      "cell_type": "code",
      "source": [],
      "metadata": {
        "id": "XSchZ3paM5EF"
      },
      "execution_count": null,
      "outputs": []
    },
    {
      "cell_type": "code",
      "source": [],
      "metadata": {
        "id": "DdhNCibiML33"
      },
      "execution_count": null,
      "outputs": []
    },
    {
      "cell_type": "code",
      "source": [],
      "metadata": {
        "id": "fH-XwCh5ML9O"
      },
      "execution_count": null,
      "outputs": []
    },
    {
      "cell_type": "code",
      "source": [],
      "metadata": {
        "id": "IAsU9slsMMMw"
      },
      "execution_count": null,
      "outputs": []
    },
    {
      "cell_type": "code",
      "source": [],
      "metadata": {
        "id": "WB7iWWdZJhTc"
      },
      "execution_count": null,
      "outputs": []
    },
    {
      "cell_type": "code",
      "source": [],
      "metadata": {
        "id": "RTtOwABoJhYz"
      },
      "execution_count": null,
      "outputs": []
    },
    {
      "cell_type": "code",
      "source": [],
      "metadata": {
        "id": "qFtEA_nBJhdg"
      },
      "execution_count": null,
      "outputs": []
    },
    {
      "cell_type": "code",
      "source": [],
      "metadata": {
        "id": "GsTVtUn8Jhix"
      },
      "execution_count": null,
      "outputs": []
    }
  ]
}